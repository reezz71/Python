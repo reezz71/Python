{
 "cells": [
  {
   "cell_type": "code",
   "execution_count": 2,
   "id": "194af2c4-b271-4802-abf3-2b9d8569c56a",
   "metadata": {},
   "outputs": [
    {
     "name": "stdout",
     "output_type": "stream",
     "text": [
      "Halo Takumi\n",
      "Halo Takumi\n"
     ]
    }
   ],
   "source": [
    "# type string\n",
    "print('Halo Takumi') # membuat string dengan tanda petik tunggal\n",
    "print('Halo Takumi') # membuat string dengan tanda petik tunggal"
   ]
  },
  {
   "cell_type": "code",
   "execution_count": 4,
   "id": "3c2cbd62-b98d-45c2-8eac-2737a82730ca",
   "metadata": {},
   "outputs": [
    {
     "name": "stdout",
     "output_type": "stream",
     "text": [
      "Halo\n",
      "Takumi\n",
      "Halo Takumi\n"
     ]
    }
   ],
   "source": [
    "# variabel type string\n",
    "s1 = 'Halo' # variabel string 1\n",
    "s2 = 'Takumi' # variabel string 2\n",
    "\n",
    "# menampilkan type string\n",
    "print(s1)\n",
    "print(s2)\n",
    "print(s1 +' '+ s2)"
   ]
  },
  {
   "cell_type": "code",
   "execution_count": 5,
   "id": "ae2d8082-f2e4-4db9-b553-427f9ec35836",
   "metadata": {},
   "outputs": [
    {
     "name": "stdout",
     "output_type": "stream",
     "text": [
      "False\n",
      "False\n",
      "True\n",
      "True\n",
      "True\n"
     ]
    }
   ],
   "source": [
    "# membandingkan string\n",
    "s1 = 'Halo' # variabel string 1\n",
    "s2 = 'Takumi' # variabel string 2\n",
    "\n",
    "print(s1 > s2)\n",
    "print(s1 >= s2)\n",
    "print(s1 < s2)\n",
    "print(s1 <= s2)\n",
    "print(s1 != s2)"
   ]
  },
  {
   "cell_type": "code",
   "execution_count": 6,
   "id": "b9ca34c1-edd0-461a-9a6c-94e91995d18a",
   "metadata": {},
   "outputs": [
    {
     "name": "stdout",
     "output_type": "stream",
     "text": [
      "T\n",
      "k\n",
      "Ta\n",
      "Taku\n",
      "umi\n",
      "mi\n",
      "Tak\n",
      "Takumi Oke\n",
      "TakumiTakumi\n"
     ]
    }
   ],
   "source": [
    "# mengambil substring; menggunakan tanda braket []\n",
    "s = 'Takumi'\n",
    "\n",
    "print(s[0]) # menampilkan substring karakter pertama\n",
    "print(s[-4]) # menampilkan sub string karakter ke 4 dari kanan\n",
    "print(s[:2]) # menampilkan dua karkter diawal\n",
    "print(s[:-2]) # menghilangkan 2 karkter terakhir\n",
    "print(s[3:]) # menampilkan 3 karakter terakhir\n",
    "print(s[-2:]) # menampilkan dua karakter terakhir\n",
    "print(s[0:3]) # menampilkan karkter dari nol\n",
    "len(s) # menunjukkan jumlah karakter\n",
    "print(s + ' ' + 'Oke') # penggabungan\n",
    "print(s*2) # pengulangan"
   ]
  },
  {
   "cell_type": "code",
   "execution_count": 7,
   "id": "6efc6ccf-9545-4bbf-ab80-395ceb4cb41c",
   "metadata": {},
   "outputs": [
    {
     "data": {
      "text/plain": [
       "1"
      ]
     },
     "execution_count": 7,
     "metadata": {},
     "output_type": "execute_result"
    }
   ],
   "source": [
    "# menemukan offset substring\n",
    "s = 'Takumi'\n",
    "s.find('aku')"
   ]
  },
  {
   "cell_type": "code",
   "execution_count": 8,
   "id": "78cee106-7ac6-46e8-a81e-c6b02efff5eb",
   "metadata": {},
   "outputs": [
    {
     "data": {
      "text/plain": [
       "'TAKUmi'"
      ]
     },
     "execution_count": 8,
     "metadata": {},
     "output_type": "execute_result"
    }
   ],
   "source": [
    "# mengganti kemunculan suatu substring dengan substring lainnya\n",
    "s = 'Takumi'\n",
    "s.replace('aku', 'AKU')"
   ]
  },
  {
   "cell_type": "code",
   "execution_count": 9,
   "id": "19bc9017-aadd-4c6a-86dd-0c7d75e5f67e",
   "metadata": {},
   "outputs": [
    {
     "data": {
      "text/plain": [
       "'TAKUMI'"
      ]
     },
     "execution_count": 9,
     "metadata": {},
     "output_type": "execute_result"
    }
   ],
   "source": [
    "# mengkonversi huruf besar dan kecil\n",
    "s = 'Takumi'\n",
    "s.upper()"
   ]
  },
  {
   "cell_type": "code",
   "execution_count": null,
   "id": "f423f462-4529-4421-ae61-175c0bc068e4",
   "metadata": {},
   "outputs": [],
   "source": []
  }
 ],
 "metadata": {
  "kernelspec": {
   "display_name": "Python 3 (ipykernel)",
   "language": "python",
   "name": "python3"
  },
  "language_info": {
   "codemirror_mode": {
    "name": "ipython",
    "version": 3
   },
   "file_extension": ".py",
   "mimetype": "text/x-python",
   "name": "python",
   "nbconvert_exporter": "python",
   "pygments_lexer": "ipython3",
   "version": "3.13.5"
  }
 },
 "nbformat": 4,
 "nbformat_minor": 5
}
