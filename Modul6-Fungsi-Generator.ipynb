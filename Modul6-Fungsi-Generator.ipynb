{
 "cells": [
  {
   "cell_type": "code",
   "execution_count": 1,
   "id": "4e905b9c-a8fc-4951-9320-e63dc10eda00",
   "metadata": {},
   "outputs": [
    {
     "name": "stdout",
     "output_type": "stream",
     "text": [
      "1\n",
      "2\n",
      "3\n"
     ]
    }
   ],
   "source": [
    "# Modul6 Fungsi dan generator\n",
    "def sisabagi (a, b):\n",
    "    hasil = a % b\n",
    "    return hasil\n",
    "\n",
    "h1 = sisabagi(10, 3)\n",
    "h2 = sisabagi(14, 4)\n",
    "h3 = sisabagi(17, 7)\n",
    "\n",
    "print(h1)\n",
    "print(h2)\n",
    "print(h3)"
   ]
  },
  {
   "cell_type": "code",
   "execution_count": 2,
   "id": "2e5750cc-825b-40dc-8f3f-1cbbedab36dd",
   "metadata": {},
   "outputs": [
    {
     "name": "stdout",
     "output_type": "stream",
     "text": [
      "Pemrograman Python\n",
      "Pemrograman \n",
      "Python\n"
     ]
    }
   ],
   "source": [
    "# contoh\n",
    "def write(s, newline=True):\n",
    "    print(s, end='')\n",
    "    if newline:print()\n",
    "\n",
    "write('Pemrograman ', False); write(\"Python\")\n",
    "\n",
    "write('Pemrograman ',); write(\"Python\")"
   ]
  },
  {
   "cell_type": "code",
   "execution_count": 3,
   "id": "bd7b704c-74cb-436a-a7f2-d89de79154e9",
   "metadata": {},
   "outputs": [
    {
     "name": "stdout",
     "output_type": "stream",
     "text": [
      "0\n",
      "1\n",
      "2\n"
     ]
    }
   ],
   "source": [
    "# Contoh variabel global\n",
    "count = 0\n",
    "\n",
    "# fungsi yang mengakses variabel global\n",
    "def increment():\n",
    "    global count\n",
    "    count +=1 # mengubah nilai variabel global\n",
    "\n",
    "# menampilkan nilai awal variabel global\n",
    "print(count)\n",
    "\n",
    "# memanggil fungsi increment()\n",
    "increment()\n",
    "\n",
    "# menampilkan nilai count\n",
    "# setelah pemanggilan fungsi increment()\n",
    "print(count)\n",
    "increment()\n",
    "print(count)"
   ]
  },
  {
   "cell_type": "code",
   "execution_count": 4,
   "id": "3264509c-a2bf-4f1a-a8ff-59d4e6fa64de",
   "metadata": {},
   "outputs": [
    {
     "name": "stdout",
     "output_type": "stream",
     "text": [
      "2025-10-07\n",
      "\n",
      "Hari\t: 7\n",
      "\n",
      "Bulan\t: 10\n",
      "\n",
      "Tahun\t: 2025\n"
     ]
    }
   ],
   "source": [
    "# contoh kode program yang menggunakan fungsi\n",
    "import datetime as dt\n",
    "\n",
    "def getisoformat(date):\n",
    "    return dt.date.isoformat(date)\n",
    "\n",
    "def day(date):\n",
    "    datestr = getisoformat(date)\n",
    "    return int(datestr[8:])\n",
    "\n",
    "def month(date):\n",
    "    datestr = getisoformat(date)\n",
    "    return int(datestr[5:7])\n",
    "\n",
    "def year(date):\n",
    "    datestr = getisoformat(date)\n",
    "    return int(datestr[:4])\n",
    "\n",
    "def main():\n",
    "    today = dt.date.today()\n",
    "    print(getisoformat(today))\n",
    "    print(\"\\nHari\\t: %d\" % day(today))\n",
    "    print(\"\\nBulan\\t: %d\" % month(today))\n",
    "    print(\"\\nTahun\\t: %d\" % year(today))\n",
    "\n",
    "if __name__ == \"__main__\":\n",
    "    main()"
   ]
  },
  {
   "cell_type": "code",
   "execution_count": 5,
   "id": "0bc5b913-5a35-4533-8b3e-bb1a780ded53",
   "metadata": {},
   "outputs": [
    {
     "name": "stdout",
     "output_type": "stream",
     "text": [
      "0\n",
      "1\n",
      "2\n"
     ]
    }
   ],
   "source": [
    "# Generator\n",
    "def generator(n):\n",
    "    MAX = 2147483647\n",
    "    while n < MAX:\n",
    "        yield n\n",
    "        n += 1\n",
    "\n",
    "g = generator(0)\n",
    "print(g.__next__())\n",
    "print(g.__next__())\n",
    "print(g.__next__())"
   ]
  },
  {
   "cell_type": "code",
   "execution_count": null,
   "id": "60b40dd6-46b3-4c95-a81c-b22c1adc3d4b",
   "metadata": {},
   "outputs": [],
   "source": []
  }
 ],
 "metadata": {
  "kernelspec": {
   "display_name": "Python 3 (ipykernel)",
   "language": "python",
   "name": "python3"
  },
  "language_info": {
   "codemirror_mode": {
    "name": "ipython",
    "version": 3
   },
   "file_extension": ".py",
   "mimetype": "text/x-python",
   "name": "python",
   "nbconvert_exporter": "python",
   "pygments_lexer": "ipython3",
   "version": "3.13.5"
  }
 },
 "nbformat": 4,
 "nbformat_minor": 5
}
