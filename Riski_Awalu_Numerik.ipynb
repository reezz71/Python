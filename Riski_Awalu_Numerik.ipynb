{
 "cells": [
  {
   "cell_type": "code",
   "execution_count": 1,
   "id": "942a88a2-bd30-42a8-8274-2690477578e1",
   "metadata": {},
   "outputs": [
    {
     "name": "stdout",
     "output_type": "stream",
     "text": [
      "<class 'int'>\n",
      "<class 'int'>\n",
      "<class 'int'>\n"
     ]
    }
   ],
   "source": [
    "# Type numerik\n",
    "a = 1\n",
    "b = -17\n",
    "c = 100\n",
    "\n",
    "print(type(a))\n",
    "print(type(b))\n",
    "print(type(c))"
   ]
  },
  {
   "cell_type": "code",
   "execution_count": 2,
   "id": "134a767d-77b6-434f-80a4-2da6c611e2ff",
   "metadata": {},
   "outputs": [
    {
     "name": "stdout",
     "output_type": "stream",
     "text": [
      "<class 'float'>\n",
      "<class 'float'>\n",
      "<class 'float'>\n"
     ]
    }
   ],
   "source": [
    "# Type Float\n",
    "x = 3.14\n",
    "y = -0.175\n",
    "z = 2.05\n",
    "\n",
    "print(type(x))\n",
    "print(type(y))\n",
    "print(type(z))"
   ]
  },
  {
   "cell_type": "code",
   "execution_count": 3,
   "id": "36cce85b-d4d4-48c5-8dcc-7e2667955d69",
   "metadata": {},
   "outputs": [
    {
     "name": "stdout",
     "output_type": "stream",
     "text": [
      "<class 'complex'>\n",
      "<class 'complex'>\n",
      "3.0\n",
      "2.0\n"
     ]
    }
   ],
   "source": [
    "# Type complex\n",
    "s1 = 3 + 2j\n",
    "s2 = -2.5j\n",
    "\n",
    "print(type(s1))\n",
    "print(type(s2))\n",
    "print(s1.real) # menampilkan bilangan real\n",
    "print(s1.imag) # menampilkan bilangan imajiner"
   ]
  },
  {
   "cell_type": "code",
   "execution_count": 4,
   "id": "6e1bbfee-3db8-4d64-886e-2bff66bd781b",
   "metadata": {},
   "outputs": [
    {
     "name": "stdout",
     "output_type": "stream",
     "text": [
      "3\n",
      "-17.0\n",
      "(-0.175+0j)\n"
     ]
    }
   ],
   "source": [
    "# Konversi tipe data numerik\n",
    "\n",
    "#Konversi ke intejer\n",
    "x = int(3.14)\n",
    "print(x)\n",
    "\n",
    "#Konversi ke float\n",
    "b = float(-17)\n",
    "print(b)\n",
    "\n",
    "#konversi ke complex\n",
    "y = complex(-0.175)\n",
    "print(y)"
   ]
  },
  {
   "cell_type": "code",
   "execution_count": 5,
   "id": "5ffb057c-b5b1-4900-ab3b-942275d58882",
   "metadata": {},
   "outputs": [
    {
     "name": "stdout",
     "output_type": "stream",
     "text": [
      "21\n",
      "9\n",
      "90\n",
      "2.5\n",
      "2\n",
      "3\n",
      "11390625\n"
     ]
    }
   ],
   "source": [
    "# Operasi aritmatika\n",
    "a = 15 \n",
    "b = 6\n",
    "print(a + b) # penjumlahan\n",
    "print(a - b) # pengurangan\n",
    "print(a * b) # perkalian\n",
    "print(a / b) # pembagian\n",
    "print(a // b) # untuk pembagian bilangan bulat\n",
    "print(a % b) # modulus\n",
    "print(a ** b) # eksponen"
   ]
  },
  {
   "cell_type": "code",
   "execution_count": 6,
   "id": "8f56ccc2-ea6e-4203-902a-32aca09b1337",
   "metadata": {},
   "outputs": [
    {
     "name": "stdout",
     "output_type": "stream",
     "text": [
      "2.0\n",
      "6.283185307179586\n",
      "1.0\n"
     ]
    }
   ],
   "source": [
    "# Modul math\n",
    "import math\n",
    "a = 4 \n",
    "b = 2 \n",
    "c = 0\n",
    "print(math.sqrt(a)) # akar variabel a = 4\n",
    "print(math.pi*(b)) # perkalian variabel b = 2 dengan pi = 3.14\n",
    "print(math.cos(c)) # cosinus variabel c = 0"
   ]
  },
  {
   "cell_type": "code",
   "execution_count": 7,
   "id": "6a4f0859-943d-427f-b4a1-26c9a84546db",
   "metadata": {},
   "outputs": [
    {
     "name": "stdout",
     "output_type": "stream",
     "text": [
      "(1.600485180440241+1.2496210676876531j)\n",
      "(22.979085577886128+14.744805188558727j)\n"
     ]
    }
   ],
   "source": [
    "# modul cmath\n",
    "import cmath\n",
    "z = 1 + 4j\n",
    "print(cmath.sqrt(z)) # akar variabel z\n",
    "print(cmath.sin(z)) # sinus variabel z\n"
   ]
  },
  {
   "cell_type": "code",
   "execution_count": null,
   "id": "234e0c8f-4ef1-4965-a3ad-213524e1308c",
   "metadata": {},
   "outputs": [],
   "source": []
  }
 ],
 "metadata": {
  "kernelspec": {
   "display_name": "Python 3 (ipykernel)",
   "language": "python",
   "name": "python3"
  },
  "language_info": {
   "codemirror_mode": {
    "name": "ipython",
    "version": 3
   },
   "file_extension": ".py",
   "mimetype": "text/x-python",
   "name": "python",
   "nbconvert_exporter": "python",
   "pygments_lexer": "ipython3",
   "version": "3.13.5"
  }
 },
 "nbformat": 4,
 "nbformat_minor": 5
}
