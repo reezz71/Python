{
 "cells": [
  {
   "cell_type": "code",
   "execution_count": 1,
   "id": "b88cd064-9808-4545-ad44-6bb56bc1009f",
   "metadata": {},
   "outputs": [
    {
     "name": "stdout",
     "output_type": "stream",
     "text": [
      "{32, 43, 11, 21}\n"
     ]
    }
   ],
   "source": [
    "# modul 5 Type set, struktur pemilihan dan pengurangan\n",
    "s = set([11, 21, 32, 43])\n",
    "print(s)"
   ]
  },
  {
   "cell_type": "code",
   "execution_count": 2,
   "id": "5f550557-13ce-4092-ab2d-ed933a97af49",
   "metadata": {},
   "outputs": [
    {
     "name": "stdout",
     "output_type": "stream",
     "text": [
      "frozenset({1, 2, 3})\n"
     ]
    }
   ],
   "source": [
    "# contoh:\n",
    "fs = frozenset([1, 2, 3])\n",
    "print(fs)"
   ]
  },
  {
   "cell_type": "code",
   "execution_count": 3,
   "id": "1cd8ffb9-ab91-4040-b0c1-3b1d85ae46f5",
   "metadata": {},
   "outputs": [
    {
     "name": "stdout",
     "output_type": "stream",
     "text": [
      "Elemen awal:\n",
      "33  11  44  22  55  \n",
      "\n",
      "Setelah pemanggilan add():\n",
      "33  66  11  44  77  22  55  \n",
      "\n",
      "Setelah pemanggilan update():\n",
      "33  66  99  11  44  77  22  55  88  \n",
      "\n",
      "Setelah pemanggilan remove():\n",
      "33  66  99  11  77  22  55  88  \n",
      "\n",
      "Setelah pemanggilan clear():\n",
      "Himpunan kosong\n",
      "\n"
     ]
    },
    {
     "ename": "SystemExit",
     "evalue": "1",
     "output_type": "error",
     "traceback": [
      "An exception has occurred, use %tb to see the full traceback.\n",
      "\u001b[1;31mSystemExit\u001b[0m\u001b[1;31m:\u001b[0m 1\n"
     ]
    },
    {
     "name": "stderr",
     "output_type": "stream",
     "text": [
      "C:\\Users\\polit\\anaconda3\\Lib\\site-packages\\IPython\\core\\interactiveshell.py:3585: UserWarning: To exit: use 'exit', 'quit', or Ctrl-D.\n",
      "  warn(\"To exit: use 'exit', 'quit', or Ctrl-D.\", stacklevel=1)\n"
     ]
    }
   ],
   "source": [
    "# contoh program type set:\n",
    "import sys\n",
    "def printElements(s, info):\n",
    "    print(info)\n",
    "    if len(s) == 0:\n",
    "        print(\"Himpunan kosong\\n\")\n",
    "        sys.exit(1)\n",
    "    for e in s:\n",
    "        print(str(e) + \" \", end = ' ')\n",
    "    print(\"\\n\")\n",
    "\n",
    "# membuat himpunan\n",
    "s = set([11, 22, 33, 44, 55])\n",
    "printElements(s, \"Elemen awal:\")\n",
    "\n",
    "# menambah anggota/elemen baru\n",
    "# menggunakan metode add()\n",
    "s.add(66);\n",
    "s.add(77);\n",
    "printElements(s, \"Setelah pemanggilan add():\")\n",
    "\n",
    "# menambah anggota/elemen baru\n",
    "# menggunakan metode update()\n",
    "s.update([88, 99])\n",
    "printElements(s, \"Setelah pemanggilan update():\")\n",
    "\n",
    "# menghapus elemen dengan nilai 44\n",
    "s.remove(44)\n",
    "printElements(s, \"Setelah pemanggilan remove():\")\n",
    "\n",
    "# menghapus semua elemen\n",
    "s.clear()\n",
    "printElements(s, \"Setelah pemanggilan clear():\")"
   ]
  },
  {
   "cell_type": "code",
   "execution_count": 5,
   "id": "a1210be1-c33c-4159-92e6-f7fb9f85dfad",
   "metadata": {},
   "outputs": [
    {
     "name": "stdout",
     "output_type": "stream",
     "text": [
      "Operasi union:\n",
      "{1, 2, 3, 4}\n",
      "Operasi intersection:\n",
      "{3}\n",
      "Operasi difference:\n",
      "{1, 2}\n",
      "Operasi symmetric difference:\n",
      "{1, 2, 4}\n"
     ]
    }
   ],
   "source": [
    "# Type set mendukung operasi-operasi himpunan seperti:\n",
    "\n",
    "x = set([1, 2, 3])\n",
    "y = set([3, 4])\n",
    "\n",
    "a = x | y # union\n",
    "print('Operasi union:')\n",
    "print(a)\n",
    "\n",
    "b = x & y # intersection \n",
    "print('Operasi intersection:')\n",
    "print(b)\n",
    "\n",
    "c = x - y\n",
    "print('Operasi difference:')\n",
    "print(c)\n",
    "\n",
    "d = x ^ y\n",
    "print('Operasi symmetric difference:')\n",
    "print(d)"
   ]
  },
  {
   "cell_type": "code",
   "execution_count": 6,
   "id": "769c5077-dacf-42b7-95e4-42fcf2c8c82c",
   "metadata": {},
   "outputs": [
    {
     "name": "stdout",
     "output_type": "stream",
     "text": [
      "frozenset({1, 2, 3})\n"
     ]
    },
    {
     "ename": "AttributeError",
     "evalue": "'frozenset' object has no attribute 'add'",
     "output_type": "error",
     "traceback": [
      "\u001b[1;31m---------------------------------------------------------------------------\u001b[0m",
      "\u001b[1;31mAttributeError\u001b[0m                            Traceback (most recent call last)",
      "Cell \u001b[1;32mIn[6], line 4\u001b[0m\n\u001b[0;32m      2\u001b[0m fs \u001b[38;5;241m=\u001b[39m \u001b[38;5;28mfrozenset\u001b[39m([\u001b[38;5;241m1\u001b[39m, \u001b[38;5;241m2\u001b[39m, \u001b[38;5;241m3\u001b[39m])\n\u001b[0;32m      3\u001b[0m \u001b[38;5;28mprint\u001b[39m(fs)\n\u001b[1;32m----> 4\u001b[0m fs\u001b[38;5;241m.\u001b[39madd(\u001b[38;5;241m4\u001b[39m)\n",
      "\u001b[1;31mAttributeError\u001b[0m: 'frozenset' object has no attribute 'add'"
     ]
    }
   ],
   "source": [
    "# frozenset tidak memiliki metode add()\n",
    "fs = frozenset([1, 2, 3])\n",
    "print(fs)\n",
    "fs.add(4)"
   ]
  },
  {
   "cell_type": "code",
   "execution_count": 7,
   "id": "4bdfabe8-6cdb-47cd-a852-75d2833e0933",
   "metadata": {},
   "outputs": [
    {
     "name": "stdout",
     "output_type": "stream",
     "text": [
      "frozenset({1, 2, 3})\n"
     ]
    },
    {
     "ename": "AttributeError",
     "evalue": "'frozenset' object has no attribute 'update'",
     "output_type": "error",
     "traceback": [
      "\u001b[1;31m---------------------------------------------------------------------------\u001b[0m",
      "\u001b[1;31mAttributeError\u001b[0m                            Traceback (most recent call last)",
      "Cell \u001b[1;32mIn[7], line 4\u001b[0m\n\u001b[0;32m      2\u001b[0m fs \u001b[38;5;241m=\u001b[39m \u001b[38;5;28mfrozenset\u001b[39m([\u001b[38;5;241m1\u001b[39m, \u001b[38;5;241m2\u001b[39m,\u001b[38;5;241m3\u001b[39m])\n\u001b[0;32m      3\u001b[0m \u001b[38;5;28mprint\u001b[39m(fs)\n\u001b[1;32m----> 4\u001b[0m fs\u001b[38;5;241m.\u001b[39mupdate([\u001b[38;5;241m4\u001b[39m, \u001b[38;5;241m5\u001b[39m])\n",
      "\u001b[1;31mAttributeError\u001b[0m: 'frozenset' object has no attribute 'update'"
     ]
    }
   ],
   "source": [
    "# frozenset tidak memiliki metode update()\n",
    "fs = frozenset([1, 2,3])\n",
    "print(fs)\n",
    "fs.update([4, 5])"
   ]
  },
  {
   "cell_type": "code",
   "execution_count": 8,
   "id": "4438c523-31d2-4ada-8cf5-981fc066e975",
   "metadata": {},
   "outputs": [
    {
     "name": "stdout",
     "output_type": "stream",
     "text": [
      "frozenset({1, 2, 3})\n"
     ]
    },
    {
     "ename": "AttributeError",
     "evalue": "'frozenset' object has no attribute 'remove'",
     "output_type": "error",
     "traceback": [
      "\u001b[1;31m---------------------------------------------------------------------------\u001b[0m",
      "\u001b[1;31mAttributeError\u001b[0m                            Traceback (most recent call last)",
      "Cell \u001b[1;32mIn[8], line 4\u001b[0m\n\u001b[0;32m      2\u001b[0m fs \u001b[38;5;241m=\u001b[39m \u001b[38;5;28mfrozenset\u001b[39m([\u001b[38;5;241m1\u001b[39m, \u001b[38;5;241m2\u001b[39m,\u001b[38;5;241m3\u001b[39m])\n\u001b[0;32m      3\u001b[0m \u001b[38;5;28mprint\u001b[39m(fs)\n\u001b[1;32m----> 4\u001b[0m fs\u001b[38;5;241m.\u001b[39mremove(\u001b[38;5;241m3\u001b[39m)\n",
      "\u001b[1;31mAttributeError\u001b[0m: 'frozenset' object has no attribute 'remove'"
     ]
    }
   ],
   "source": [
    "# frozenset tidak memiliki metode remove()\n",
    "fs = frozenset([1, 2,3])\n",
    "print(fs)\n",
    "fs.remove(3)"
   ]
  },
  {
   "cell_type": "code",
   "execution_count": 9,
   "id": "b45248d9-240d-4184-bf32-8797738ca0c7",
   "metadata": {},
   "outputs": [
    {
     "name": "stdout",
     "output_type": "stream",
     "text": [
      "frozenset({1, 2, 3})\n"
     ]
    },
    {
     "ename": "AttributeError",
     "evalue": "'frozenset' object has no attribute 'clear'",
     "output_type": "error",
     "traceback": [
      "\u001b[1;31m---------------------------------------------------------------------------\u001b[0m",
      "\u001b[1;31mAttributeError\u001b[0m                            Traceback (most recent call last)",
      "Cell \u001b[1;32mIn[9], line 4\u001b[0m\n\u001b[0;32m      2\u001b[0m fs \u001b[38;5;241m=\u001b[39m \u001b[38;5;28mfrozenset\u001b[39m([\u001b[38;5;241m1\u001b[39m, \u001b[38;5;241m2\u001b[39m,\u001b[38;5;241m3\u001b[39m])\n\u001b[0;32m      3\u001b[0m \u001b[38;5;28mprint\u001b[39m(fs)\n\u001b[1;32m----> 4\u001b[0m fs\u001b[38;5;241m.\u001b[39mclear()\n",
      "\u001b[1;31mAttributeError\u001b[0m: 'frozenset' object has no attribute 'clear'"
     ]
    }
   ],
   "source": [
    "# frozenset tidak memiliki metode clear()\n",
    "fs = frozenset([1, 2,3])\n",
    "print(fs)\n",
    "fs.clear()"
   ]
  },
  {
   "cell_type": "code",
   "execution_count": 10,
   "id": "868b087f-1b31-47b5-8cb1-6ece130a70c9",
   "metadata": {},
   "outputs": [
    {
     "name": "stdout",
     "output_type": "stream",
     "text": [
      "Pemrograman Python 3\n"
     ]
    }
   ],
   "source": [
    "# contoh program:\n",
    "versi = 3\n",
    "str = 'Pemrograman Python'\n",
    "\n",
    "if versi == 3:\n",
    "    print(str + ' 3')\n",
    "else:\n",
    "    print(str)"
   ]
  },
  {
   "cell_type": "code",
   "execution_count": 11,
   "id": "d33e493b-1f91-43bb-b75d-7b2422952d3f",
   "metadata": {},
   "outputs": [
    {
     "name": "stdout",
     "output_type": "stream",
     "text": [
      "Bahasa\t\t: Python 3\n",
      "Versi Python\t:3.13.\n"
     ]
    }
   ],
   "source": [
    "# contoh\n",
    "import sys\n",
    "versi = sys.version\n",
    "\n",
    "if versi[:1] == '3':\n",
    "    print('Bahasa\\t\\t: Python 3')\n",
    "    print('Versi Python\\t:' + versi[:5])"
   ]
  },
  {
   "cell_type": "code",
   "execution_count": 12,
   "id": "f2d6306f-458e-4011-8286-91f6435174f2",
   "metadata": {},
   "outputs": [
    {
     "name": "stdin",
     "output_type": "stream",
     "text": [
      "Masukkan bilangan pertama\t: 1034\n",
      "Masukkan bilangan kedua\t: 273\n",
      "Masukkan operator (+,-,*,/)\t: *\n"
     ]
    },
    {
     "name": "stdout",
     "output_type": "stream",
     "text": [
      "1034.00 * 273.00 = 282282.00\n"
     ]
    }
   ],
   "source": [
    "# contoh kode python\n",
    "def main():\n",
    "    x = float(input('Masukkan bilangan pertama\\t:'))\n",
    "    y = float(input('Masukkan bilangan kedua\\t:'))\n",
    "    op = input('Masukkan operator (+,-,*,/)\\t:')\n",
    "\n",
    "    if op == '+':\n",
    "        print('%.2f + %.2f = %.2f' % (x, y, x+y))\n",
    "    elif op == '-':\n",
    "        print('%.2f - %.2f = %.2f' % (x, y, x-y))\n",
    "    elif op == '*':\n",
    "        print('%.2f * %.2f = %.2f' % (x, y, x*y))\n",
    "    elif op == '/':\n",
    "        print('%.2f / %.2f = %.2f' % (x, y, x/y))\n",
    "    else:\n",
    "        print('ERROR: Gunakan operator +,-,*,/')\n",
    "\n",
    "if __name__=='__main__':\n",
    "    main()\n",
    "        "
   ]
  },
  {
   "cell_type": "code",
   "execution_count": 14,
   "id": "ffbd6346-5936-4dc1-a68d-69c1678aef47",
   "metadata": {},
   "outputs": [
    {
     "name": "stdout",
     "output_type": "stream",
     "text": [
      "Python"
     ]
    }
   ],
   "source": [
    "# contoh program\n",
    "\n",
    "a = 'Python'\n",
    "# menelusuri semua karakter dalam string: a\n",
    "for c in a:\n",
    "    print(c, end='')"
   ]
  },
  {
   "cell_type": "code",
   "execution_count": 20,
   "id": "df4981f7-d036-47bb-92fb-f7f8c2eb8bd1",
   "metadata": {},
   "outputs": [
    {
     "name": "stdout",
     "output_type": "stream",
     "text": [
      "Python\n",
      "Ruby\n",
      "Perl\n",
      "PHP\n"
     ]
    }
   ],
   "source": [
    "# contoh program\n",
    "\n",
    "b = ['Python', 'Ruby', 'Perl', 'PHP']\n",
    "# menelusuri semua karakter didalam list: a\n",
    "for e in b:\n",
    "    print(e)"
   ]
  },
  {
   "cell_type": "code",
   "execution_count": 21,
   "id": "15beb346-679a-40c8-beed-848e92ac3481",
   "metadata": {},
   "outputs": [
    {
     "name": "stdout",
     "output_type": "stream",
     "text": [
      "Arti 'one' adalah 'satu'\n",
      "Arti 'two' adalah 'dua'\n",
      "Arti 'three' adalah 'tiga'\n"
     ]
    }
   ],
   "source": [
    "# contoh program\n",
    "\n",
    "c = {'one':'satu', 'two':'dua', 'three':'tiga'}\n",
    "# menelusuri semua elemen didalam dictionary: c\n",
    "for key in c:\n",
    "    print(\"Arti '%s' adalah '%s'\" % (key, c[key]))"
   ]
  },
  {
   "cell_type": "code",
   "execution_count": 22,
   "id": "0cc823ee-db52-4613-bc15-30cf2c388d64",
   "metadata": {},
   "outputs": [
    {
     "name": "stdout",
     "output_type": "stream",
     "text": [
      "012345"
     ]
    }
   ],
   "source": [
    "# contoh \n",
    "for i in range (6):\n",
    "    print(i, end='')"
   ]
  },
  {
   "cell_type": "code",
   "execution_count": 23,
   "id": "d9bcf151-effd-43fd-a9ab-d4b10d0d1c15",
   "metadata": {},
   "outputs": [
    {
     "name": "stdout",
     "output_type": "stream",
     "text": [
      "10 12 14 16 18 20 "
     ]
    }
   ],
   "source": [
    "# contoh\n",
    "for i in range(10, 22, 2):\n",
    "    print(\"%d \" % i, end='')"
   ]
  },
  {
   "cell_type": "code",
   "execution_count": null,
   "id": "c1fba0a9-a55d-45bc-b9a2-cf4a3e280f10",
   "metadata": {},
   "outputs": [],
   "source": []
  }
 ],
 "metadata": {
  "kernelspec": {
   "display_name": "Python 3 (ipykernel)",
   "language": "python",
   "name": "python3"
  },
  "language_info": {
   "codemirror_mode": {
    "name": "ipython",
    "version": 3
   },
   "file_extension": ".py",
   "mimetype": "text/x-python",
   "name": "python",
   "nbconvert_exporter": "python",
   "pygments_lexer": "ipython3",
   "version": "3.13.5"
  }
 },
 "nbformat": 4,
 "nbformat_minor": 5
}
