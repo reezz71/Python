{
 "cells": [
  {
   "cell_type": "code",
   "execution_count": 1,
   "id": "475c1019-a37f-49a5-9f72-644fef6d3666",
   "metadata": {},
   "outputs": [
    {
     "name": "stdout",
     "output_type": "stream",
     "text": [
      "dic['Dosen']: Eko\n",
      "dic['Prodi']: Mekatronika\n",
      "dic['Kuliah']: Python\n"
     ]
    }
   ],
   "source": [
    "# Dalam python, Dictionary disebut juga \"mapping\". identik dengan array asosiatif\n",
    "# Indeks type string\n",
    "# Type data: 1) key; 2) value\n",
    "# Bentuk umum: variabel ={key1:value1, key2:value2}\n",
    "\n",
    "#contoh\n",
    "dic ={'Dosen':'Eko', 'Prodi':'Mekatronika', 'Kuliah':'Python'} #buat variabel\n",
    "\n",
    "#menampilkan dictionary:\n",
    "\n",
    "print(\"dic['Dosen']:\", dic['Dosen'])\n",
    "print(\"dic['Prodi']:\", dic['Prodi'])\n",
    "print(\"dic['Kuliah']:\", dic['Kuliah'])"
   ]
  },
  {
   "cell_type": "code",
   "execution_count": 2,
   "id": "498e5750-872d-4a05-b6d3-3d7d917f04f8",
   "metadata": {},
   "outputs": [
    {
     "name": "stdout",
     "output_type": "stream",
     "text": [
      "Dosen: Eko\n",
      "Prodi: Mekatronika\n",
      "Kuliah: Python\n"
     ]
    }
   ],
   "source": [
    "dic ={'Dosen':'Eko', 'Prodi':'Mekatronika', 'Kuliah':'Python'} #buat variabel\n",
    "\n",
    "#menampilkan dictionary:\n",
    "print(\"Dosen:\", dic['Dosen'])\n",
    "print(\"Prodi:\", dic['Prodi'])\n",
    "print(\"Kuliah:\", dic['Kuliah'])"
   ]
  },
  {
   "cell_type": "code",
   "execution_count": 3,
   "id": "27e03348-6f2e-4899-80ae-4e9e782007e0",
   "metadata": {},
   "outputs": [
    {
     "name": "stdout",
     "output_type": "stream",
     "text": [
      "satu: 5\n",
      "dua: 10\n"
     ]
    }
   ],
   "source": [
    "# Variabel dictionary\n",
    "dic ={'satu':5, 'dua':10}\n",
    "\n",
    "#menampilkan dictionary:\n",
    "print(\"satu:\", dic['satu'])\n",
    "print(\"dua:\", dic['dua'])\n"
   ]
  },
  {
   "cell_type": "code",
   "execution_count": 4,
   "id": "08c73d88-c710-4fba-aa6f-09f56114fb80",
   "metadata": {},
   "outputs": [
    {
     "name": "stdout",
     "output_type": "stream",
     "text": [
      "dic['satu'] * dic['dua']: 50\n"
     ]
    }
   ],
   "source": [
    "#variabel dictionary\n",
    "dic ={'satu':5, 'dua':10}\n",
    "print(\"dic['satu'] * dic['dua']:\", (dic['satu'] * dic['dua']))\n"
   ]
  },
  {
   "cell_type": "code",
   "execution_count": 7,
   "id": "3028acd9-cb55-479c-bad9-b06490400831",
   "metadata": {},
   "outputs": [
    {
     "name": "stdout",
     "output_type": "stream",
     "text": [
      "satu: 5\n",
      "dua: 10\n",
      "satu * dua: 50\n",
      "satu + dua: 15\n",
      "dua / satu: 2.0\n"
     ]
    }
   ],
   "source": [
    "#variabel dictionary\n",
    "dic ={'satu':5, 'dua':10}\n",
    "\n",
    "#operasi matematis dictionary\n",
    "print(\"satu:\", dic['satu'])\n",
    "print(\"dua:\", dic['dua'])\n",
    "print(\"satu * dua:\", (dic['satu'] * dic['dua']))\n",
    "print(\"satu + dua:\", (dic['satu'] + dic['dua']))\n",
    "print(\"dua / satu:\", (dic['dua'] / dic['satu']))"
   ]
  },
  {
   "cell_type": "code",
   "execution_count": 9,
   "id": "b472d040-ee07-42a0-99cc-e860137efaa8",
   "metadata": {},
   "outputs": [
    {
     "name": "stdout",
     "output_type": "stream",
     "text": [
      "{'satu': 5, 'dua': 10, 'tiga': 15}\n"
     ]
    }
   ],
   "source": [
    "#Menambah elemen ke dalam dictionary\n",
    "\n",
    "dic ={'satu':5, 'dua':10} #sebelum ditambah\n",
    "dic['tiga'] = 15 #menambahkan elemen key 'tiga' dan value '15'\n",
    "print(dic) # menampilkan hasil penambahan elemen"
   ]
  },
  {
   "cell_type": "code",
   "execution_count": 10,
   "id": "55f594b9-f53e-4299-a2c0-d4833d93464e",
   "metadata": {},
   "outputs": [
    {
     "name": "stdout",
     "output_type": "stream",
     "text": [
      "{'satu': 5, 'dua': 20, 'tiga': 15}\n"
     ]
    }
   ],
   "source": [
    "# mengubah elemen dalam dictionary\n",
    "\n",
    "dic = {'satu':5, 'dua':10, 'tiga':15} #sebelum diubah\n",
    "dic['dua'] = 20 # mengubah value '10' menjadi '20'\n",
    "print(dic)"
   ]
  },
  {
   "cell_type": "code",
   "execution_count": 11,
   "id": "c08a9c5b-3ca2-4367-a527-7f3290ef4791",
   "metadata": {},
   "outputs": [
    {
     "name": "stdout",
     "output_type": "stream",
     "text": [
      "{'satu': 5, 'tiga': 15}\n"
     ]
    }
   ],
   "source": [
    "# menghapus elemen dari dictionary\n",
    "\n",
    "dic = {'satu':5, 'dua':10, 'tiga':15} # sebelum dihapus\n",
    "del dic['dua']\n",
    "print(dic)"
   ]
  },
  {
   "cell_type": "code",
   "execution_count": 12,
   "id": "4868d219-8540-419b-8864-d641460eeba5",
   "metadata": {},
   "outputs": [
    {
     "name": "stdout",
     "output_type": "stream",
     "text": [
      "{'a': 1, 'b': 2, 'c': 3}\n",
      "['a', 'b', 'c']\n",
      "['a', 'b', 'c']\n",
      "a = 1\n",
      "b = 2\n",
      "c = 3\n"
     ]
    }
   ],
   "source": [
    "# sorting dictionary\n",
    "\n",
    "D = {'a':1, 'b':2, 'c':3}\n",
    "print(D)\n",
    "Ks = list(D.keys())\n",
    "print(Ks)\n",
    "Ks.sort()\n",
    "print(Ks)\n",
    "\n",
    "for key in Ks:\n",
    "    print(key, '=', D[key])"
   ]
  },
  {
   "cell_type": "code",
   "execution_count": 13,
   "id": "a0a3221c-80cb-4388-a46e-13c2ecf4dd1f",
   "metadata": {},
   "outputs": [
    {
     "name": "stdout",
     "output_type": "stream",
     "text": [
      "Index List\n",
      "10\n",
      "30\n",
      "50\n",
      "50\n",
      "40\n",
      "10\n",
      "banyaknya elemen\n",
      "5\n"
     ]
    }
   ],
   "source": [
    "# Type list\n",
    "# dalam python mirip dengan array normal\n",
    "# dalam list, elemen tidak diindeks berdasarkan kunci(key) tertentu\n",
    "# Indeks bilangan selalu diawali dari niali nol(0)\n",
    "# Indeks negatif ditentukan dari  arah kanan, dan dimulai dari -1\n",
    "# bentuk umum: nama_list = [nilai1, nilai2, nilai3, ...]\n",
    "\n",
    "# Contoh:\n",
    "list = [10, 20, 30, 40, 50]\n",
    "\n",
    "# index elemen di dalam list berdasarkan posisi\n",
    "print('Index List')\n",
    "print(list[0]) # bernilai 10\n",
    "print(list[2]) # bernilai 30\n",
    "print(list[4]) # bernilai 50\n",
    "print(list[-1]) # bernilai 50\n",
    "print(list[-2]) # bernilai 40\n",
    "print(list[-5]) # bernilai 10\n",
    "print('banyaknya elemen')\n",
    "print(len(list))"
   ]
  },
  {
   "cell_type": "code",
   "execution_count": 18,
   "id": "69a0c7e2-e7f2-48d5-8474-9d9058639a21",
   "metadata": {},
   "outputs": [
    {
     "name": "stdout",
     "output_type": "stream",
     "text": [
      "sebelum dipotong:\n",
      "[10, 20, 30, 40, 50]\n",
      "setelah dipotong:\n",
      "[10, 20, 30, 40]\n",
      "[10]\n",
      "[50]\n",
      "[40, 50]\n"
     ]
    }
   ],
   "source": [
    "# contoh:\n",
    "list = [10, 20, 30, 40, 50]\n",
    "\n",
    "# Slicing (memotong) elemen didalam list\n",
    "print('sebelum dipotong:')\n",
    "print(list)\n",
    "print('setelah dipotong:')\n",
    "print(list[:-1]) # memotong elemen pertama dari kanan\n",
    "print(list[:1]) # memotong elemen\n",
    "print(list[-1:]) # memotong elemen dari kanan kecuali elemen -1\n",
    "print(list[-2:])\n",
    "# tugas berikan penjelasan pada slicing"
   ]
  },
  {
   "cell_type": "code",
   "execution_count": 19,
   "id": "0cd458c0-f2cd-48e8-8831-f8e5ed2b9d6a",
   "metadata": {},
   "outputs": [
    {
     "name": "stdout",
     "output_type": "stream",
     "text": [
      "sebelum digabung:\n",
      "[10, 20, 30, 40, 50]\n",
      "setelah digabung:\n",
      "[10, 20, 30, 40, 50, 600, 700, 800]\n"
     ]
    }
   ],
   "source": [
    "# contoh:\n",
    "list = [10, 20, 30, 40, 50]\n",
    "\n",
    "# penggabungan elemen list dan membuat daftar list baru\n",
    "print('sebelum digabung:')\n",
    "print(list)\n",
    "print('setelah digabung:')\n",
    "print(list + [600, 700, 800])\n",
    "\n"
   ]
  },
  {
   "cell_type": "code",
   "execution_count": 21,
   "id": "bbcc8f28-f205-4c6c-a2be-f2845e217bd2",
   "metadata": {},
   "outputs": [
    {
     "name": "stdout",
     "output_type": "stream",
     "text": [
      "5\n",
      "30\n",
      "30\n"
     ]
    }
   ],
   "source": [
    "# pengambilan elemen list menggunakan indeks negatif dapat ditentukan dengan formula\n",
    "# List[-n] = list[len(list) - n]\n",
    "\n",
    "# contoh:\n",
    "list = [10, 20, 30, 40, 50]\n",
    "print(len(list)) # berfungsi untuk mengambil jumlah atau banyaknya elemen dalam list\n",
    "\n",
    "# jika n = -3\n",
    "list[-3] = list[len(list)-3] # = list[2]\n",
    "print(list[-3])\n",
    "print(list[2])\n",
    "\n",
    "# berarti list[-3] = list[2]"
   ]
  },
  {
   "cell_type": "code",
   "execution_count": 22,
   "id": "b4961cd8-8277-40e4-a094-8f4e012a572a",
   "metadata": {},
   "outputs": [
    {
     "name": "stdout",
     "output_type": "stream",
     "text": [
      "[1, 'Jeruk', 2, 'Rambutan', 3, 'Durian']\n",
      "1\n",
      "Jeruk\n",
      "2\n",
      "Rambutan\n",
      "3\n",
      "Durian\n"
     ]
    }
   ],
   "source": [
    "# dalam python, nilai elemen dalam list bisa berasal dari tipe data yang berbeda\n",
    "\n",
    "#contoh:\n",
    "list = [1, 'Jeruk', 2, 'Rambutan', 3, 'Durian']\n",
    "\n",
    "# menampilkan elemen dalam list\n",
    "print(list)\n",
    "\n",
    "# index elemen list\n",
    "print(list[0])\n",
    "print(list[1])\n",
    "print(list[2])\n",
    "print(list[3])\n",
    "print(list[4])\n",
    "print(list[5])\n"
   ]
  },
  {
   "cell_type": "code",
   "execution_count": 23,
   "id": "1e40a4d2-5149-488c-bcbd-7d6d95727570",
   "metadata": {},
   "outputs": [
    {
     "name": "stdout",
     "output_type": "stream",
     "text": [
      "Jl. Raya Kodam\n",
      "Cikarang Selatan\n",
      "17530\n"
     ]
    }
   ],
   "source": [
    "# Nilai elemen didalam list juga dapat berupa list lain\n",
    "# Konsep sama dengan array multidimensional\n",
    "\n",
    "# contoh:\n",
    "list = [1, 'Takumi', ['Jl. Raya Kodam', 'Cikarang Selatan', 17530], '08111374497']\n",
    "\n",
    "print(list[2][0])\n",
    "print(list[2][1])\n",
    "print(list[2][2])"
   ]
  },
  {
   "cell_type": "code",
   "execution_count": 24,
   "id": "0de0f85e-4dc3-4d01-85df-e85a26db7253",
   "metadata": {},
   "outputs": [
    {
     "name": "stdout",
     "output_type": "stream",
     "text": [
      "Matriks 3x3\n",
      "[4, 5, 6]\n",
      "Mengambil baris ke-2, lalu dapatkan item ke-3 didalam baris\n",
      "6\n",
      "2\n",
      "4\n",
      "8\n",
      "(2, 4, 8)\n"
     ]
    }
   ],
   "source": [
    "# contoh array multidimensional (Nesting) dalam bentuk matriks\n",
    "M = [[1, 2, 3],\n",
    "     [4, 5, 6],\n",
    "     [7, 8, 9]]\n",
    "\n",
    "print('Matriks 3x3')\n",
    "print(M[1]) # menampilkan baris kedua\n",
    "\n",
    "print('Mengambil baris ke-2, lalu dapatkan item ke-3 didalam baris')\n",
    "print(M[1][2])\n",
    "print(M[0][1])\n",
    "print(M[1][0])\n",
    "print(M[2][1])\n",
    "Matrix =((M[0][1]), (M[1][0]), (M[2][1]))\n",
    "print(Matrix)"
   ]
  },
  {
   "cell_type": "code",
   "execution_count": 25,
   "id": "a47a9cfb-525d-4724-8063-51944ca1294f",
   "metadata": {},
   "outputs": [
    {
     "name": "stdout",
     "output_type": "stream",
     "text": [
      "Matriks 3x3:\n",
      "[[1, 2, 3], [4, 5, 6], [7, 8, 9]]\n",
      "Hasil penambahan 1 untuk setiap item dikolom 2\n",
      "[3, 6, 9]\n",
      "Matriks 3x3 sebelun penyaringan data:\n",
      "[[1, 2, 3], [4, 5, 6], [7, 8, 9]]\n",
      "Data matriks yang telah di saring pada kolom ke-2\n",
      "[2, 8]\n",
      "Data matriks yang telah disaring pada kolom ke-1\n",
      "[4]\n",
      "Matriks 3x3:\n",
      "[[1, 2, 3], [4, 5, 6], [7, 8, 9]]\n",
      "bentuk diagonal matriks\n",
      "[1, 5, 9]\n"
     ]
    }
   ],
   "source": [
    "# list comprehension expression\n",
    "\n",
    "# membuat matriks\n",
    "M = [[1, 2, 3],\n",
    "     [4, 5, 6],\n",
    "     [7, 8, 9]]\n",
    "\n",
    "print('Matriks 3x3:')\n",
    "print(M)\n",
    "\n",
    "# tambahkan 1 untuk setiap item di kolom 2\n",
    "M1 = [row[1]+1 for row in M]\n",
    "print('Hasil penambahan 1 untuk setiap item dikolom 2')\n",
    "print(M1)\n",
    "\n",
    "# menyaring item data pada matriks\n",
    "print('Matriks 3x3 sebelun penyaringan data:')\n",
    "print(M)\n",
    "M2 = [row[1] for row in M if row[1] %2 == 0]\n",
    "print('Data matriks yang telah di saring pada kolom ke-2')\n",
    "print(M2)\n",
    "\n",
    "M3 = [row[0] for row in M if row[0] %2 == 0]\n",
    "print('Data matriks yang telah disaring pada kolom ke-1')\n",
    "print(M3)\n",
    "\n",
    "# mengumpulkan diagonal dari matriks\n",
    "print('Matriks 3x3:')\n",
    "print(M)\n",
    "diag =[M[i][i] for i in [0, 1, 2]]\n",
    "print('bentuk diagonal matriks')\n",
    "print(diag)"
   ]
  },
  {
   "cell_type": "code",
   "execution_count": 29,
   "id": "4589e17d-5e29-4c3f-8136-7b0f896fe375",
   "metadata": {},
   "outputs": [
    {
     "name": "stdout",
     "output_type": "stream",
     "text": [
      "Elemen awal:\n",
      "['Jakarta', 'Bandung', 'Semarang']\n",
      "\n",
      "Setelah append():\n",
      "['Jakarta', 'Bandung', 'Semarang', 'Surabaya']\n",
      "\n",
      "Setelah insert():\n",
      "['Jakarta', 'Yogyakarta', 'Bandung', 'Semarang', 'Surabaya']\n",
      "\n",
      "Setelah extend():\n",
      "['Jakarta', 'Yogyakarta', 'Bandung', 'Semarang', 'Surabaya', 'Medan', 'Denpasar']\n"
     ]
    }
   ],
   "source": [
    "# menambah elemen ke dalam list \n",
    "\n",
    "# membuat list\n",
    "kota = ['Jakarta', 'Bandung', 'Semarang']\n",
    "print('Elemen awal:')\n",
    "print(kota)\n",
    "\n",
    "# menggunakan metode append (); untuk menambah elemen tunggal diakhir bagian list\n",
    "kota.append('Surabaya')\n",
    "print('\\nSetelah append():')\n",
    "print(kota)\n",
    "\n",
    "# menggunakan metode insert(); untuk menambahkan elemen tunggal di indeks/posisi tertentu\n",
    "kota.insert(1, 'Yogyakarta')\n",
    "print('\\nSetelah insert():')\n",
    "print(kota)\n",
    "\n",
    "# menggunakan metode extend(); untuk menyambung atau menggabungkan suatu list dengan list lainnya\n",
    "kota.extend(['Medan','Denpasar'])\n",
    "print('\\nSetelah extend():')\n",
    "print(kota)"
   ]
  },
  {
   "cell_type": "code",
   "execution_count": 30,
   "id": "bf5725f4-e603-4342-9e3b-6520323f85b8",
   "metadata": {},
   "outputs": [
    {
     "name": "stdout",
     "output_type": "stream",
     "text": [
      "Sebelum diubah:\n",
      "['ayam', 'kucing', 'tikus']\n",
      "\n",
      "Setelah diubah:\n",
      "['ayam', 'ular', 'buaya']\n"
     ]
    }
   ],
   "source": [
    "# mengubah nilai elemen didalam list\n",
    "\n",
    "# membuat list\n",
    "hewan = ['ayam', 'kucing', 'tikus']\n",
    "print(\"Sebelum diubah:\")\n",
    "print(hewan)\n",
    "\n",
    "# membuat nilai elemen list \n",
    "hewan[1] = 'ular'\n",
    "hewan[-1] = 'buaya'\n",
    "\n",
    "# menampilkan hasil perubahan \n",
    "print('\\nSetelah diubah:')\n",
    "print(hewan)"
   ]
  },
  {
   "cell_type": "code",
   "execution_count": 31,
   "id": "a07eefc3-a65b-4ccf-a7ed-01d254951e36",
   "metadata": {},
   "outputs": [
    {
     "name": "stdout",
     "output_type": "stream",
     "text": [
      "Sebelum dihapus:\n",
      "['Indonesia', 'Singapura', 'Malaysia', 'Thailand', 'Vietnam', 'India']\n",
      "\n",
      "Setelah dihapus:\n",
      "['Indonesia', 'Malaysia', 'Thailand', 'India']\n",
      "\n",
      "Setelah dihapus dengan metode del[]:\n",
      "['Indonesia', 'India']\n",
      "2\n",
      "0\n"
     ]
    }
   ],
   "source": [
    "# menghapus elemen dari list\n",
    "\n",
    "# membuat list\n",
    "negara = ['Indonesia', 'Singapura', 'Malaysia', 'Thailand', 'Vietnam', 'India']\n",
    "print('Sebelum dihapus:')\n",
    "print(negara)\n",
    "\n",
    "# menggunakan remove(); menghapus elemen list berdasarkan nilainya\n",
    "# bentuk umum: nama_variabel.remove()\n",
    "negara.remove('Singapura')\n",
    "negara.remove('Vietnam')\n",
    "\n",
    "# menampilkan hasil setelah dihapus dengan metode remove()\n",
    "print('\\nSetelah dihapus:')\n",
    "print(negara)\n",
    "\n",
    "# menggunakan de(); menghapus elemen list berdasarkan indeksnya\n",
    "# bentuk umum: del nama_variabel[indeks]\n",
    "del negara[2]\n",
    "del negara[-2]\n",
    "\n",
    "# menampilkan hasil setelah dihapus dengan metode del[]\n",
    "print('\\nSetelah dihapus dengan metode del[]:')\n",
    "print(negara)\n",
    "\n",
    "# menggunakna metode clear(): menghapus seluruh elemen didalam list\n",
    "print(len(negara))\n",
    "negara.clear()\n",
    "print(len(negara))"
   ]
  },
  {
   "cell_type": "code",
   "execution_count": 32,
   "id": "58e2755b-a25e-44e3-be20-821a4e41e67b",
   "metadata": {},
   "outputs": [
    {
     "name": "stdout",
     "output_type": "stream",
     "text": [
      "['pepaya', 'mangga', 'pisang', 'jambu']\n",
      "pepaya berada di indeks ke-\n",
      "0\n",
      "jambu berada di indeks ke-\n",
      "3\n"
     ]
    }
   ],
   "source": [
    "# mencari elemen didalam list \n",
    "# menggunakan metode index()\n",
    "# bentuk umum: nama_list.index(nilai)\n",
    "\n",
    "# membuat list\n",
    "buah = ['pepaya', 'mangga', 'pisang', 'jambu']\n",
    "print(buah)\n",
    "\n",
    "# mencari elemen list\n",
    "# bentuk umum: nama_variabel.index('nilai atau elemen yang diindeks)\n",
    "print('pepaya berada di indeks ke-')\n",
    "print(buah.index('pepaya'))\n",
    "print('jambu berada di indeks ke-')\n",
    "print(buah.index('jambu'))"
   ]
  },
  {
   "cell_type": "code",
   "execution_count": 33,
   "id": "264fe120-f387-47da-9073-822791f5a104",
   "metadata": {},
   "outputs": [
    {
     "name": "stdout",
     "output_type": "stream",
     "text": [
      "Data list awal:\n",
      "['bb', 'aa', 'cc']\n",
      "Setelah di sort:\n",
      "['aa', 'bb', 'cc']\n",
      "Data list:\n",
      "['aa', 'bb', 'cc']\n",
      "Setelah di reverse;\n",
      "['cc', 'bb', 'aa']\n"
     ]
    }
   ],
   "source": [
    "# menyusun data dalam list menggunakan metode sort() dan reverse()\n",
    "\n",
    "# mebuat list\n",
    "L = ['bb', 'aa', 'cc']\n",
    "\n",
    "# menggunakan metode sort()\n",
    "print('Data list awal:')\n",
    "print(L)\n",
    "print('Setelah di sort:')\n",
    "L.sort()\n",
    "print(L)\n",
    "\n",
    "# menggunakan metode reverse()\n",
    "print('Data list:')\n",
    "print(L)\n",
    "print('Setelah di reverse;')\n",
    "L.reverse()\n",
    "print(L)"
   ]
  },
  {
   "cell_type": "code",
   "execution_count": 35,
   "id": "b07379a3-203c-4459-95ee-d411696721b0",
   "metadata": {},
   "outputs": [
    {
     "name": "stdout",
     "output_type": "stream",
     "text": [
      "Data list:\n",
      "['Politeknik', 'Takumi', 'Hebat']\n",
      "Mengulang karakter pada item takumi sebanyak 2 kali\n",
      "['TT', 'aa', 'kk', 'uu', 'mm', 'ii']\n",
      "['TTT', 'aaa', 'kkk', 'uuu', 'mmm', 'iii']\n"
     ]
    }
   ],
   "source": [
    "#mengulang karakter dalam sebuah string\n",
    "\n",
    "# membuat list\n",
    "list = ['Politeknik', 'Takumi', 'Hebat']\n",
    "print('Data list:')\n",
    "print(list)\n",
    "print('Mengulang karakter pada item takumi sebanyak 2 kali')\n",
    "doubles = [c* 2 for c in 'Takumi']\n",
    "print(doubles)\n",
    "doubles1 = [c* 3 for c in 'Takumi']\n",
    "print(doubles1)"
   ]
  },
  {
   "cell_type": "code",
   "execution_count": null,
   "id": "f07b6e39-b65f-4cfa-be8a-dba0cbfab242",
   "metadata": {},
   "outputs": [],
   "source": []
  }
 ],
 "metadata": {
  "kernelspec": {
   "display_name": "Python 3 (ipykernel)",
   "language": "python",
   "name": "python3"
  },
  "language_info": {
   "codemirror_mode": {
    "name": "ipython",
    "version": 3
   },
   "file_extension": ".py",
   "mimetype": "text/x-python",
   "name": "python",
   "nbconvert_exporter": "python",
   "pygments_lexer": "ipython3",
   "version": "3.13.5"
  }
 },
 "nbformat": 4,
 "nbformat_minor": 5
}
