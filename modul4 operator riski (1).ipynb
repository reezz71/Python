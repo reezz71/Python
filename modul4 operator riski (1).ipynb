{
 "cells": [
  {
   "cell_type": "code",
   "execution_count": 1,
   "id": "741e84b6-68aa-4ec9-b96b-3884f451ccb6",
   "metadata": {},
   "outputs": [
    {
     "name": "stdout",
     "output_type": "stream",
     "text": [
      "5\n"
     ]
    }
   ],
   "source": [
    "# type operator\n",
    "# Operator penugasan\n",
    "# menggunakan tanda operasi / operator sama dengan (=)\n",
    "# contoh\n",
    "a = 5\n",
    "print(a)"
   ]
  },
  {
   "cell_type": "code",
   "execution_count": 2,
   "id": "6be0ef6e-0e76-4d0d-a7cb-e77e954be003",
   "metadata": {},
   "outputs": [
    {
     "name": "stdout",
     "output_type": "stream",
     "text": [
      "13\n"
     ]
    }
   ],
   "source": [
    "# contoh\n",
    "a = 5\n",
    "a = a + 8 # a baruu = a lama + 8\n",
    "print(a)"
   ]
  },
  {
   "cell_type": "code",
   "execution_count": 3,
   "id": "029dbc4a-8d5a-450c-8fad-186952163aba",
   "metadata": {},
   "outputs": [
    {
     "name": "stdout",
     "output_type": "stream",
     "text": [
      "13\n"
     ]
    }
   ],
   "source": [
    "# merubah kode operasi penjumlahan\n",
    "# contoh\n",
    "a = 5\n",
    "a += 8 # a baru = a lama + 8\n",
    "print(a)"
   ]
  },
  {
   "cell_type": "code",
   "execution_count": 4,
   "id": "0d5fd59f-12e1-4cef-807b-e94b0826450b",
   "metadata": {},
   "outputs": [
    {
     "name": "stdout",
     "output_type": "stream",
     "text": [
      "30\n"
     ]
    }
   ],
   "source": [
    "# operasi perkalian \n",
    "b = 10\n",
    "b *= 3\n",
    "print(b)"
   ]
  },
  {
   "cell_type": "code",
   "execution_count": 5,
   "id": "fa3e2cf7-84dd-4d39-9ea2-0948c6933ad0",
   "metadata": {},
   "outputs": [
    {
     "name": "stdout",
     "output_type": "stream",
     "text": [
      "4\n",
      "4.285714285714286\n"
     ]
    }
   ],
   "source": [
    "# operasi pembagian bilangan bulat (//=)\n",
    "b = 30\n",
    "b //= 7\n",
    "print(b)\n",
    "print(30/7)"
   ]
  },
  {
   "cell_type": "code",
   "execution_count": 6,
   "id": "564ebac4-9682-4081-80d8-e966ffd28124",
   "metadata": {},
   "outputs": [
    {
     "name": "stdout",
     "output_type": "stream",
     "text": [
      "4.285714285714286\n",
      "4.285714285714286\n"
     ]
    }
   ],
   "source": [
    "# operasi pembagian bilangan rill (/=)\n",
    "b = 30.0\n",
    "b /= 7\n",
    "print(b)\n",
    "print(30/7)"
   ]
  },
  {
   "cell_type": "code",
   "execution_count": 7,
   "id": "568cf216-8f0a-43b1-8832-d6c2172eba7f",
   "metadata": {},
   "outputs": [
    {
     "name": "stdout",
     "output_type": "stream",
     "text": [
      "2\n"
     ]
    }
   ],
   "source": [
    "# operasi pencarian sisa bagi(%=)\n",
    "b = 30\n",
    "b %= 7\n",
    "print(b)"
   ]
  },
  {
   "cell_type": "code",
   "execution_count": 8,
   "id": "5276ebfc-a18a-4e2d-a3e5-1d19032541c5",
   "metadata": {},
   "outputs": [
    {
     "name": "stdout",
     "output_type": "stream",
     "text": [
      "x = 8\n",
      "y = 3\n",
      "x + y 11\n",
      "x - y 5\n",
      "x * y 24\n",
      "x / y 2.6666666666666665\n",
      "x //y 2\n",
      "x % y 2\n",
      "x ** y 512\n"
     ]
    }
   ],
   "source": [
    "# operator aritmatika\n",
    "# contoh program\n",
    "def main():\n",
    "    # mendefinisikan variabel x dan y\n",
    "    x = 8\n",
    "    y = 3\n",
    "\n",
    "    # menampilkan nilai x dan y\n",
    "    print('x =', x)\n",
    "    print('y =', y)\n",
    "\n",
    "    # melakukan perhitungan terhadap x dan y\n",
    "    print('x + y', (x + y))\n",
    "    print('x - y', (x - y))\n",
    "    print('x * y', (x * y))\n",
    "    print('x / y', (x / y))\n",
    "    print('x //y', (x // y))\n",
    "    print('x % y', (x %  y))\n",
    "    print('x ** y', (x ** y))\n",
    "\n",
    "if __name__== '__main__':\n",
    "    main()"
   ]
  },
  {
   "cell_type": "code",
   "execution_count": 1,
   "id": "7234a47f-b2f1-41b2-bdcb-62b6d000e43d",
   "metadata": {},
   "outputs": [
    {
     "name": "stdout",
     "output_type": "stream",
     "text": [
      "x = 8\n",
      "y = 5\n",
      "[2, 4, 8, 16, 32]\n",
      "x == y False\n",
      "x != y True\n",
      "x > y True\n",
      "x >= y True\n",
      "x < y False\n",
      "x <= y False\n",
      "x in li True\n",
      "y in li False\n"
     ]
    }
   ],
   "source": [
    "# operator relasional\n",
    "# contoh program\n",
    "def main():\n",
    "    # mendefinisikan variabel x dan y\n",
    "    # dan li (bertipe list)\n",
    "    x = 8\n",
    "    y = 5\n",
    "    li = [2, 4, 8, 16, 32]\n",
    "\n",
    "    # menampilkan nilai x dan y\n",
    "    print('x =' , x)\n",
    "    print('y =', y)\n",
    "    print(li)\n",
    "\n",
    "    # melakukan pemeriksaan terhadap x dan y\n",
    "    print('x == y', (x == y))\n",
    "    print('x != y', (x != y))\n",
    "    print('x > y', (x > y))\n",
    "    print('x >= y', (x >= y))\n",
    "    print('x < y', (x < y))\n",
    "    print('x <= y', (x <= y))\n",
    "    print('x in li', (x in li))\n",
    "    print('y in li', (y in li))\n",
    "\n",
    "if __name__== '__main__':\n",
    "    main()"
   ]
  },
  {
   "cell_type": "code",
   "execution_count": 2,
   "id": "ae169767-375d-462b-a65b-966a4d02ad44",
   "metadata": {},
   "outputs": [
    {
     "name": "stdout",
     "output_type": "stream",
     "text": [
      "operasi AND\n",
      "True and True \t: True\n",
      "True and False \t: False\n",
      "False and True \t: False\n",
      "False and False \t: False\n"
     ]
    }
   ],
   "source": [
    "# Operator logika\n",
    "# contoh program operasi AND\n",
    "def main():\n",
    "    print('operasi AND')\n",
    "    print('True and True \\t:', (True and True))\n",
    "    print('True and False \\t:', (True and False))\n",
    "    print('False and True \\t:', (False and True))\n",
    "    print('False and False \\t:', (False and False))\n",
    "\n",
    "if __name__ == '__main__':\n",
    "    main()"
   ]
  },
  {
   "cell_type": "code",
   "execution_count": 5,
   "id": "72212f08-798d-4ce4-8a7f-4267f0b281a4",
   "metadata": {},
   "outputs": [
    {
     "name": "stdout",
     "output_type": "stream",
     "text": [
      "PoliteknikTakumi\n"
     ]
    }
   ],
   "source": [
    "# Operator string\n",
    "# contoh\n",
    "str1 = 'Politeknik'\n",
    "str2 = 'Takumi'\n",
    "\n",
    "# menjumlahkan string\n",
    "str3 = (str1 + str2)\n",
    "print(str3)"
   ]
  },
  {
   "cell_type": "code",
   "execution_count": 6,
   "id": "84360753-b997-4bad-813a-be83a45789f9",
   "metadata": {},
   "outputs": [
    {
     "name": "stdout",
     "output_type": "stream",
     "text": [
      "bil1: 15\n",
      "bil2: 7.25\n"
     ]
    }
   ],
   "source": [
    "# contoh\n",
    "bil1 = 15\n",
    "bil2 = 7.25\n",
    "\n",
    "print('bil1: ' + str(bil1))\n",
    "print('bil2: ' + str(bil2))"
   ]
  },
  {
   "cell_type": "code",
   "execution_count": 7,
   "id": "e9c95753-2200-4925-84c1-055e62e5b081",
   "metadata": {},
   "outputs": [
    {
     "name": "stdout",
     "output_type": "stream",
     "text": [
      "bil1: 15\n",
      "bil1: 7.25\n"
     ]
    }
   ],
   "source": [
    "bil1 = 15\n",
    "bil2 = 7.25\n",
    "\n",
    "str1 = 'bil1: %d' % bil1\n",
    "str2 = 'bil1: %.2f' % bil2\n",
    "\n",
    "print(str1)\n",
    "print(str2)"
   ]
  },
  {
   "cell_type": "code",
   "execution_count": 8,
   "id": "a55c00e2-907d-49b9-9f65-90a42866874f",
   "metadata": {},
   "outputs": [
    {
     "name": "stdout",
     "output_type": "stream",
     "text": [
      "TTT\n",
      "TTT TTT TTT TTT TTT \n"
     ]
    }
   ],
   "source": [
    "# contoh\n",
    "karakter = 'T'\n",
    "teks = karakter * 3\n",
    "print(teks)\n",
    "\n",
    "print((teks +' ')* 5)"
   ]
  },
  {
   "cell_type": "code",
   "execution_count": 9,
   "id": "6b6530f3-c569-42bc-bcfb-8233bfd3fa95",
   "metadata": {},
   "outputs": [
    {
     "name": "stdout",
     "output_type": "stream",
     "text": [
      "Takumi Takumi Takumi Takumi Takumi \n"
     ]
    }
   ],
   "source": [
    "# contoh\n",
    "print('Takumi ' * 5)"
   ]
  },
  {
   "cell_type": "code",
   "execution_count": 10,
   "id": "6874b440-f00b-4fee-ae31-4fcea4e5b02b",
   "metadata": {},
   "outputs": [
    {
     "name": "stdout",
     "output_type": "stream",
     "text": [
      "x: \t120\n",
      "y: \t127\n",
      "\n",
      "Bitwise AND\n",
      "x&y \t:120\n",
      "\n",
      "Bitwise OR\n",
      "x | y \t:127\n",
      "\n",
      "Bitwise XOR\n",
      "x ^ y \t:7\n",
      "\n",
      "Bitwise NOT\n",
      "~x \t:-121\n",
      "~y \t:-128\n",
      "\n",
      "Bitwise SHIFT LEFT\n",
      "x << 1 \t:240\n",
      "y << 1 \t:254\n",
      "\n",
      "Bitwise SHIFT RIGHT\n",
      "x >> 1 \t:60\n",
      "y >> 1 \t:63\n"
     ]
    }
   ],
   "source": [
    "# Operator bitwise\n",
    "def main():\n",
    "    x = 120 # dalam bentuk biner: 01111000\n",
    "    y = 127 # dalam bentuk biner: 01111111\n",
    "\n",
    "    # menampilkan nilai x dan y\n",
    "    print('x: \\t' + str(x))\n",
    "    print('y: \\t' + str(y))\n",
    "\n",
    "    print('\\nBitwise AND')\n",
    "    print('x&y \\t:' + str(x&y))\n",
    "\n",
    "    print('\\nBitwise OR')\n",
    "    print('x | y \\t:' + str(x | y))\n",
    "\n",
    "    print('\\nBitwise XOR')\n",
    "    print('x ^ y \\t:' + str(x ^ y))\n",
    "\n",
    "    print('\\nBitwise NOT')\n",
    "    print('~x \\t:' + str(~x))\n",
    "    print('~y \\t:' + str(~y))\n",
    "\n",
    "    print('\\nBitwise SHIFT LEFT')\n",
    "    print('x << 1 \\t:' + str(x <<1 ))\n",
    "    print('y << 1 \\t:' + str(y <<1 ))\n",
    "\n",
    "    print('\\nBitwise SHIFT RIGHT')\n",
    "    print('x >> 1 \\t:' + str(x >>1 ))\n",
    "    print('y >> 1 \\t:' + str(y >>1 ))\n",
    "\n",
    "if __name__=='__main__':\n",
    "    main()\n",
    "    "
   ]
  },
  {
   "cell_type": "code",
   "execution_count": null,
   "id": "b10f38f9-1da6-42b1-934d-10ce210cc00a",
   "metadata": {},
   "outputs": [],
   "source": []
  }
 ],
 "metadata": {
  "kernelspec": {
   "display_name": "Python 3 (ipykernel)",
   "language": "python",
   "name": "python3"
  },
  "language_info": {
   "codemirror_mode": {
    "name": "ipython",
    "version": 3
   },
   "file_extension": ".py",
   "mimetype": "text/x-python",
   "name": "python",
   "nbconvert_exporter": "python",
   "pygments_lexer": "ipython3",
   "version": "3.13.5"
  }
 },
 "nbformat": 4,
 "nbformat_minor": 5
}
